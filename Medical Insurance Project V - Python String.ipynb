{
 "cells": [
  {
   "cell_type": "code",
   "execution_count": 34,
   "metadata": {},
   "outputs": [
    {
     "name": "stdout",
     "output_type": "stream",
     "text": [
      "['Marina Allison   ', '27   ', '   31.1 ', ' $7010.0   ', 'Markus Valdez   ', '   30', ' 22.4', '   $4050.0 ', '\\nConnie Ballard ', '43 ', '   25.3 ', ' $12060.0 ', '\\nDarnell Weber   ', '   35   ', ' 20.6   ', ' $7500.0', ' Sylvie Charles   ', '22', ' 22.1 ', '$3022.0   ', '   \\nVinay Padilla', '24', '   26.9 ', '$4620.0 ', 'Meredith Santiago', ' 51   ', ' 29.3 ', '$16330.0', '   \\nAndre Mccarty', ' 19', '22.7 ', ' $2900.0 ', ' \\nLorena Hodson ', '65', ' 33.1 ', ' $19370.0', ' \\nIsaac Vu ', '34', ' 24.8', '   $7045.0']\n",
      "[]\n"
     ]
    }
   ],
   "source": [
    "medical_data = \\\n",
    "\"\"\"Marina Allison   ,27   ,   31.1 , #7010.0   ;Markus Valdez   ,   30, 22.4,   #4050.0 ;\n",
    "Connie Ballard ,43 ,   25.3 , #12060.0 ;\n",
    "Darnell Weber   ,   35   , 20.6   , #7500.0; Sylvie Charles   ,22, 22.1 ,#3022.0   ;   \n",
    "Vinay Padilla,24,   26.9 ,#4620.0 ;Meredith Santiago, 51   , 29.3 ,#16330.0;   \n",
    "Andre Mccarty, 19,22.7 , #2900.0 ; \n",
    "Lorena Hodson ,65, 33.1 , #19370.0; \n",
    "Isaac Vu ,34, 24.8,   #7045.0\"\"\"\n",
    "\n",
    "#1. replace # with $\n",
    "\n",
    "medical_data_sign = medical_data.replace(\"#\",\"$\")\n",
    "#print(medical_data_sign)\n",
    "\n",
    "#2. write a for loop to iterate through the updated_medical_data string. \n",
    "#Inside of the loop, add 1 to num_records when the current character is equal to $.\n",
    "\n",
    "\n",
    "num_records = 0\n",
    "for i in medical_data_sign:\n",
    "    if i == \"$\":\n",
    "         num_records += 1\n",
    "#print(\"There are \" + str(num_records) +\" medical records in the data.\")\n",
    "\n",
    "#3. Let’s start off by splitting the updated_medical_data string into a list of each medical record. \n",
    "#Remember that each medical record is separated by a ; in the string.\n",
    "#Store the result in a variable called medical_data_split and print this variable.\n",
    "\n",
    "medical_data_split = medical_data_sign.split(\";\")\n",
    "#print(medical_data_split)\n",
    "\n",
    "#4. Next, iterate through medical_data_split and for each record, split the string after each comma (,) \n",
    "#and append the split string to medical_records.\n",
    "\n",
    "medical_records = []\n",
    "for i in medical_data_split:\n",
    "    medical_records += i.split(',')\n",
    "    #alternative: medical_records.append(record.split(','))\n",
    "print(medical_records)\n",
    "\n",
    "#5Inside of the loop, create an empty list called record_clean. \n",
    "#We’ll use this list to store a formatted version of each medical record.\n",
    "medical_records_clean = []\n",
    "for i in medical_records:\n",
    "    record_clean = []\n",
    "    record_clean.append(i.strip())  \n",
    "print(medical_records_clean)"
   ]
  },
  {
   "cell_type": "code",
   "execution_count": null,
   "metadata": {},
   "outputs": [],
   "source": []
  }
 ],
 "metadata": {
  "kernelspec": {
   "display_name": "Python 3",
   "language": "python",
   "name": "python3"
  },
  "language_info": {
   "codemirror_mode": {
    "name": "ipython",
    "version": 3
   },
   "file_extension": ".py",
   "mimetype": "text/x-python",
   "name": "python",
   "nbconvert_exporter": "python",
   "pygments_lexer": "ipython3",
   "version": "3.7.4"
  }
 },
 "nbformat": 4,
 "nbformat_minor": 2
}
