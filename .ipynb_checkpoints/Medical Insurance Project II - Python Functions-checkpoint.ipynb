{
 "cells": [
  {
   "cell_type": "code",
   "execution_count": 25,
   "metadata": {},
   "outputs": [],
   "source": [
    "#modify medical insurance project with function\n",
    "#2. Create calculate_insurance_cost() function below\n",
    "#3. Create a variable called estimated_cost. \n",
    "#For now, set this variable equal to a value of 1000. You’ll add the full formula in the next step.\n",
    "#Add a print statement that prints estimated_cost. \n",
    "#4. Modify the function definition so that it contains five parameters\n",
    "#5. modify the estimate cost with formula\n",
    "#6. find out maria's estimate cost"
   ]
  },
  {
   "cell_type": "code",
   "execution_count": 26,
   "metadata": {},
   "outputs": [
    {
     "name": "stdout",
     "output_type": "stream",
     "text": [
      "The estimated insurance cost for Maria is 5469.0 dollars.\n",
      "The estimated insurance cost for Omar is 28336.0 dollars.\n"
     ]
    }
   ],
   "source": [
    "def calculate_insurance_cost(age,sex,bmi,num_of_children,smoker):\n",
    "\n",
    "    estimated_cost = 250*age - 128*sex + 370*bmi + 425*num_of_children + 24000*smoker - 12500\n",
    "    \n",
    "    return estimated_cost\n",
    "print(\"The estimated insurance cost for Maria is\", calculate_insurance_cost(28,0,26.2,3,0),\"dollars.\")\n",
    "print(\"The estimated insurance cost for Omar is\",calculate_insurance_cost(35,1,22.2,0,1), \"dollars.\")"
   ]
  },
  {
   "cell_type": "code",
   "execution_count": 1,
   "metadata": {},
   "outputs": [
    {
     "name": "stdout",
     "output_type": "stream",
     "text": [
      "Keanu's Estimated Insurance Cost: 29591.0 dollars.\n",
      "To lower your cost, you should consider quitting smoking.\n",
      "Your BMI is in the overweight range. To lower your cost, you should lower your BMI.\n"
     ]
    }
   ],
   "source": [
    "# At the top of your code, define a function called analyze_smoker() that takes an input smoker_status. \n",
    "#If smoker_status is equal to 1, print \"To lower your cost, you should consider quitting smoking.\"\n",
    "#Otherwise, print \"Smoking is not an issue for you.\"\n",
    "#evaluation BMI according to WHO standard\n",
    "\n",
    "def analyze_smoker(smoker):\n",
    "    if smoker == 1:\n",
    "        print (\"To lower your cost, you should consider quitting smoking.\")\n",
    "    else:\n",
    "        print(\"Smoking is not an issue for you.\")\n",
    "\n",
    "def analyze_bmi(bmi):\n",
    "    if bmi > 30: \n",
    "        print(\"Your BMI is in the obese range. To lower your cost, you should significantly lower your BMI.\")\n",
    "    if bmi >= 25 and bmi <= 30: \n",
    "        print(\"Your BMI is in the overweight range. To lower your cost, you should lower your BMI.\")\n",
    "    if bmi >= 18.5 and bmi < 25: \n",
    "        print(\"Your BMI is in a healthy range.\")\n",
    "    if bmi < 18.5: \n",
    "        print(\"Your BMI is in the underweight range. Increasing your BMI will not help lower your cost, but it will help improve your health.\")\n",
    "\n",
    "# Function to estimate insurance cost:\n",
    "def estimate_insurance_cost(name, age, sex, bmi, num_of_children, smoker):\n",
    "  estimated_cost = 250*age - 128*sex + 370*bmi + 425*num_of_children + 24000*smoker - 12500\n",
    "  print(name + \"'s Estimated Insurance Cost: \" + str(estimated_cost) + \" dollars.\")\n",
    "    \n",
    "  analyze_smoker(smoker)\n",
    "  analyze_bmi(bmi)\n",
    "    \n",
    "  return estimated_cost\n",
    " \n",
    "# Estimate Keanu's insurance cost\n",
    "keanu_insurance_cost = estimate_insurance_cost(name = 'Keanu', age = 29, sex = 1, bmi = 26.2, num_of_children = 3, smoker = 1)"
   ]
  },
  {
   "cell_type": "code",
   "execution_count": null,
   "metadata": {},
   "outputs": [],
   "source": []
  }
 ],
 "metadata": {
  "kernelspec": {
   "display_name": "Python 3",
   "language": "python",
   "name": "python3"
  },
  "language_info": {
   "codemirror_mode": {
    "name": "ipython",
    "version": 3
   },
   "file_extension": ".py",
   "mimetype": "text/x-python",
   "name": "python",
   "nbconvert_exporter": "python",
   "pygments_lexer": "ipython3",
   "version": "3.7.4"
  }
 },
 "nbformat": 4,
 "nbformat_minor": 2
}
