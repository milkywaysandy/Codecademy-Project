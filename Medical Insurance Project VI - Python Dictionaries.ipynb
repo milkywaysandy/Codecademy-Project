{
 "cells": [
  {
   "cell_type": "code",
   "execution_count": 35,
   "metadata": {},
   "outputs": [
    {
     "name": "stdout",
     "output_type": "stream",
     "text": [
      "{'Marina': 6607.0, 'Vinay': 3225.0, 'Connie': 8886.0, 'Isaac': 16444.0, 'Valentina': 6420.0}\n",
      "6607.0\n",
      "9932.0\n",
      "18818.0\n",
      "35262.0\n",
      "41682.0\n",
      "Average Insurance Cost:  8336.4\n",
      "{'Marina': 27, 'Vinay': 24, 'Connie': 43, 'Isaac': 35, 'Valentina': 52}\n",
      "Marina's age is  27\n",
      "{'Marina': {'Age': 27, 'Sex': 'Female', 'BMI': 31.1, 'Children': 2, 'Smoker': 'Non-smoker', 'Insurance_cost': 6607.0}, 'Vinay': {'Age': 24, 'Sex': 'Male', 'BMI': 26.9, 'Children': 0, 'Smoker': 'Non-smoker', 'Insurance_cost': 3225.0}, 'Connie': {'Age': 43, 'Sex': 'Female', 'BMI': 25.3, 'Children': 3, 'Smoker': 'Non-smoker', 'Insurance_cost': 8886.0}, 'Isaac': {'Age': 35, 'Sex': 'Male', 'BMI': 20.6, 'Children': 4, 'Smoker': 'Smoker', 'Insurance_cost': 16444.0}, 'Valentina': {'Age': 52, 'Sex': 'Female', 'BMI': 18.7, 'Children': 1, 'Smoker': 'Non-smoker', 'Insurance_cost': 6420.0}}\n",
      "Connie's insurance cost is  8886.0  dollars.\n",
      "{'Marina': {'Age': 27, 'Sex': 'Female', 'BMI': 31.1, 'Children': 2, 'Smoker': 'Non-smoker', 'Insurance_cost': 6607.0}, 'Connie': {'Age': 43, 'Sex': 'Female', 'BMI': 25.3, 'Children': 3, 'Smoker': 'Non-smoker', 'Insurance_cost': 8886.0}, 'Isaac': {'Age': 35, 'Sex': 'Male', 'BMI': 20.6, 'Children': 4, 'Smoker': 'Smoker', 'Insurance_cost': 16444.0}, 'Valentina': {'Age': 52, 'Sex': 'Female', 'BMI': 18.7, 'Children': 1, 'Smoker': 'Non-smoker', 'Insurance_cost': 6420.0}}\n",
      "Marina is a 27 year old Female Non-smoker with a BMI of 31.1 and insurance cost of 6607.0\n",
      "Connie is a 43 year old Female Non-smoker with a BMI of 25.3 and insurance cost of 8886.0\n",
      "Isaac is a 35 year old Male Smoker with a BMI of 20.6 and insurance cost of 16444.0\n",
      "Valentina is a 52 year old Female Non-smoker with a BMI of 18.7 and insurance cost of 6420.0\n"
     ]
    }
   ],
   "source": [
    "#create a dictionary named medical_costs\n",
    "medical_costs = {}\n",
    "\n",
    "#entry 2 records\n",
    "medical_costs[\"Marina\"]= 6607.0\n",
    "medical_costs[\"Vinay\"] = 3225.0\n",
    "\n",
    "#entre 3 additional records in one line\n",
    "medical_costs.update({\"Connie\": 8886.0, \"Isaac\": 16444.0, \"Valentina\":6420.0})\n",
    "print(medical_costs)\n",
    "\n",
    "#update value of a record\n",
    "medical_costs.update({\"Vinay\":3325.0})\n",
    "\n",
    "#add all value to calculate average cost\n",
    "total_cost = 0\n",
    "for i in medical_costs.values():\n",
    "    total_cost += i\n",
    "    print(total_cost)\n",
    "average_cost = total_cost/len(medical_costs)\n",
    "print(\"Average Insurance Cost: \",average_cost)\n",
    "\n",
    "#new list of patient information with list and combine\n",
    "names = ['Marina', 'Vinay', 'Connie', 'Isaac', 'Valentina']\n",
    "ages = [27,24,43,35,52]\n",
    "zipped_ages = zip(names,ages)\n",
    "names_to_ages = {key: value for key, value in zipped_ages}\n",
    "print(names_to_ages)\n",
    "\n",
    "#call patient Marina\n",
    "marina_age = names_to_ages.get('Marina')\n",
    "print(\"Marina's age is \", marina_age)\n",
    "\n",
    "#new record dictionary\n",
    "medical_records = {}\n",
    "medical_records[\"Marina\"]={\"Age\": 27, \"Sex\": \"Female\", \"BMI\": 31.1, \"Children\": 2, \"Smoker\": \"Non-smoker\", \"Insurance_cost\": 6607.0}\n",
    "medical_records[\"Vinay\"] = {\"Age\": 24, \"Sex\": \"Male\", \"BMI\": 26.9, \"Children\": 0, \"Smoker\": \"Non-smoker\", \"Insurance_cost\": 3225.0}\n",
    "medical_records[\"Connie\"] = {\"Age\": 43, \"Sex\": \"Female\", \"BMI\": 25.3, \"Children\": 3, \"Smoker\": \"Non-smoker\", \"Insurance_cost\": 8886.0}\n",
    "medical_records[\"Isaac\"] = {\"Age\": 35, \"Sex\": \"Male\", \"BMI\": 20.6, \"Children\": 4, \"Smoker\": \"Smoker\", \"Insurance_cost\": 16444.0}\n",
    "medical_records[\"Valentina\"] = {\"Age\": 52, \"Sex\": \"Female\", \"BMI\": 18.7, \"Children\": 1, \"Smoker\": \"Non-smoker\", \"Insurance_cost\": 6420.0}\n",
    "print(medical_records)\n",
    "\n",
    "#action on particular record\n",
    "print(\"Connie's insurance cost is \",str(medical_records[\"Connie\"][\"Insurance_cost\"])  ,\" dollars.\")\n",
    "medical_records.pop(\"Vinay\")\n",
    "print(medical_records)\n",
    "for name ,record in medical_records.items():\n",
    "  print(name + \" is a \" + str(record[\"Age\"]) + \\\n",
    "  \" year old \" + record[\"Sex\"] + \" \" + record[\"Smoker\"] \\\n",
    "  + \" with a BMI of \" + str(record[\"BMI\"]) + \\\n",
    "  \" and insurance cost of \" + str(record[\"Insurance_cost\"]))"
   ]
  },
  {
   "cell_type": "code",
   "execution_count": null,
   "metadata": {},
   "outputs": [],
   "source": []
  }
 ],
 "metadata": {
  "kernelspec": {
   "display_name": "Python 3",
   "language": "python",
   "name": "python3"
  },
  "language_info": {
   "codemirror_mode": {
    "name": "ipython",
    "version": 3
   },
   "file_extension": ".py",
   "mimetype": "text/x-python",
   "name": "python",
   "nbconvert_exporter": "python",
   "pygments_lexer": "ipython3",
   "version": "3.7.4"
  }
 },
 "nbformat": 4,
 "nbformat_minor": 2
}
